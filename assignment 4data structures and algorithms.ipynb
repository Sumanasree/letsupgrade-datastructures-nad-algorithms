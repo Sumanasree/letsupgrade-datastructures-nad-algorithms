{
 "cells": [
  {
   "cell_type": "code",
   "execution_count": 13,
   "metadata": {},
   "outputs": [
    {
     "name": "stdout",
     "output_type": "stream",
     "text": [
      "element present at index None\n"
     ]
    }
   ],
   "source": [
    "def binary_search(arr,low,high,x):\n",
    "    if high>=low:\n",
    "        mid=(high+low)//2\n",
    "        if arr[mid]==x:\n",
    "            return mid\n",
    "        \n",
    "    elif arr[mid]>x:\n",
    "        return binary_search(arr,low,mid-1,x)\n",
    "    else:\n",
    "    \n",
    "\n",
    "        return -1\n",
    "arr=[2,3,4,10,40]\n",
    "x=10\n",
    "result=binary_search(arr,0,len(arr)-1,x)\n",
    "if result!=-1:\n",
    "    print(\"element present at index\",str(result))\n",
    "else:\n",
    "    print(\"element not present in array\")"
   ]
  },
  {
   "cell_type": "code",
   "execution_count": 16,
   "metadata": {},
   "outputs": [
    {
     "ename": "SyntaxError",
     "evalue": "invalid syntax (<ipython-input-16-abe0bfca5088>, line 2)",
     "output_type": "error",
     "traceback": [
      "\u001b[1;36m  File \u001b[1;32m\"<ipython-input-16-abe0bfca5088>\"\u001b[1;36m, line \u001b[1;32m2\u001b[0m\n\u001b[1;33m    def__init__(self,  data):\u001b[0m\n\u001b[1;37m                             ^\u001b[0m\n\u001b[1;31mSyntaxError\u001b[0m\u001b[1;31m:\u001b[0m invalid syntax\n"
     ]
    }
   ],
   "source": [
    "class Node:\n",
    "    \n",
    "    def__init__(self,  data):\n",
    "        self.data=data\n",
    "        self.next=None\n",
    "class LinkedList:\n",
    "    def__init__(self):\n",
    "        self.head=None\n",
    "    def push (self,new_data):\n",
    "        new_node=Node(new_data)\n",
    "        new_node.next=self.head\n",
    "        self.head=new_node\n",
    "    def printMiddle(self):\n",
    "        slow_ptr=self.head\n",
    "        fast_ptr=self.head\n",
    "        if self.head is not None:\n",
    "            while(fast_ptr is not None and fast_ptr.next is not None):\n",
    "                fast_ptr=fast_ptr.next.next\n",
    "                slow_ptr=slow_ptr.next\n",
    "            print(\"middle element is \",slow_ptr.data)\n",
    "list1=LinkedList()\n",
    "list1.push(5)\n",
    "list1.push(4)\n",
    "list1.push(2)\n",
    "list1.push(3)\n",
    "list1.push(1)\n",
    "list1.printMiddle()\n",
    "\n",
    "    \n",
    "    \n",
    "           "
   ]
  },
  {
   "cell_type": "code",
   "execution_count": null,
   "metadata": {},
   "outputs": [],
   "source": []
  }
 ],
 "metadata": {
  "kernelspec": {
   "display_name": "Python 3",
   "language": "python",
   "name": "python3"
  },
  "language_info": {
   "codemirror_mode": {
    "name": "ipython",
    "version": 3
   },
   "file_extension": ".py",
   "mimetype": "text/x-python",
   "name": "python",
   "nbconvert_exporter": "python",
   "pygments_lexer": "ipython3",
   "version": "3.8.3"
  }
 },
 "nbformat": 4,
 "nbformat_minor": 4
}
